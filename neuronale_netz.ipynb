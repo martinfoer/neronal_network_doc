{
 "cells": [
  {
   "cell_type": "code",
   "execution_count": 1,
   "metadata": {},
   "outputs": [
    {
     "name": "stdout",
     "output_type": "stream",
     "text": [
      "Tensorflow version: 2.14.0 (Expected 2.7.0)\n",
      "Größe der Trainingsdaten: 376320000 Bytes\n",
      "Größe der binären Trainingsdaten: 188160000 Bytes\n",
      "(60000, 10)\n",
      "(10000, 10)\n"
     ]
    }
   ],
   "source": [
    "from tensorflow.keras.utils import to_categorical\n",
    "from skimage import filters\n",
    "import tensorflow as tf        \n",
    "from scipy.ndimage import gaussian_filter\n",
    "\n",
    "\n",
    "\n",
    "print('Tensorflow version:', tf.__version__, '(Expected 2.7.0)')\n",
    "\n",
    "# Loading the MNIST dataset\n",
    "(x_train, y_train), (x_test, y_test) = tf.keras.datasets.mnist.load_data()\n",
    "x_train_normalized = x_train/255\n",
    "x_test_normalized = x_test/255 \n",
    "x_train= x_train_normalized.reshape(-1, 28, 28, 1)\n",
    "x_test = x_test_normalized.reshape(-1, 28, 28, 1)\n",
    "\n",
    "train_size_bytes = x_train.nbytes\n",
    "print(f\"Größe der Trainingsdaten: {train_size_bytes} Bytes\")\n",
    "\n",
    "#giving images a binary threshold to only have black or white pixels\n",
    "threshold = 127\n",
    "x_train_binary = (x_train > threshold).astype('float32')\n",
    "x_test_binary = (x_test > threshold).astype('float32')\n",
    "\n",
    "binary_train_size_bytes = x_train_binary.nbytes\n",
    "print(f\"Größe der binären Trainingsdaten: {binary_train_size_bytes} Bytes\")\n",
    "\n",
    "\n",
    "# Anwendung des Sobel-Filters\n",
    "x_train_edges = filters.sobel(x_train_binary)\n",
    "x_test_edges = filters.sobel(x_test_binary)\n",
    "\n",
    "\n",
    "# Anwendung des Gauß-Filters\n",
    "sigma = 1.0  # Standardabweichung des Gauß-Filters\n",
    "x_train_smoothed = gaussian_filter(x_train_edges, sigma=sigma)\n",
    "x_test_smoothed = gaussian_filter(x_test_edges, sigma=sigma)\n",
    "\n",
    "\n",
    "# one-hot encoding of labels\n",
    "y_train_one_hot = to_categorical(y_train)\n",
    "y_test_one_hot = to_categorical(y_test)\n",
    "\n",
    "print(y_train_one_hot.shape)\n",
    "print(y_test_one_hot.shape)\n",
    "\n",
    "\n",
    "\n"
   ]
  },
  {
   "cell_type": "code",
   "execution_count": 2,
   "metadata": {},
   "outputs": [
    {
     "name": "stdout",
     "output_type": "stream",
     "text": [
      "Model: \"sequential\"\n",
      "_________________________________________________________________\n",
      " Layer (type)                Output Shape              Param #   \n",
      "=================================================================\n",
      " conv2d (Conv2D)             (None, 26, 26, 32)        320       \n",
      "                                                                 \n",
      " max_pooling2d (MaxPooling2  (None, 13, 13, 32)        0         \n",
      " D)                                                              \n",
      "                                                                 \n",
      " conv2d_1 (Conv2D)           (None, 11, 11, 64)        18496     \n",
      "                                                                 \n",
      " max_pooling2d_1 (MaxPoolin  (None, 5, 5, 64)          0         \n",
      " g2D)                                                            \n",
      "                                                                 \n",
      " conv2d_2 (Conv2D)           (None, 3, 3, 64)          36928     \n",
      "                                                                 \n",
      " flatten (Flatten)           (None, 576)               0         \n",
      "                                                                 \n",
      " dense (Dense)               (None, 64)                36928     \n",
      "                                                                 \n",
      " dense_1 (Dense)             (None, 10)                650       \n",
      "                                                                 \n",
      "=================================================================\n",
      "Total params: 93322 (364.54 KB)\n",
      "Trainable params: 93322 (364.54 KB)\n",
      "Non-trainable params: 0 (0.00 Byte)\n",
      "_________________________________________________________________\n",
      "Model: \"sequential_1\"\n",
      "_________________________________________________________________\n",
      " Layer (type)                Output Shape              Param #   \n",
      "=================================================================\n",
      " conv2d_3 (Conv2D)           (None, 26, 26, 16)        160       \n",
      "                                                                 \n",
      " max_pooling2d_2 (MaxPoolin  (None, 13, 13, 16)        0         \n",
      " g2D)                                                            \n",
      "                                                                 \n",
      " conv2d_4 (Conv2D)           (None, 8, 13, 2)          194       \n",
      "                                                                 \n",
      " max_pooling2d_3 (MaxPoolin  (None, 4, 6, 2)           0         \n",
      " g2D)                                                            \n",
      "                                                                 \n",
      " conv2d_5 (Conv2D)           (None, 4, 1, 4)           52        \n",
      "                                                                 \n",
      " flatten_1 (Flatten)         (None, 16)                0         \n",
      "                                                                 \n",
      " dense_2 (Dense)             (None, 16)                272       \n",
      "                                                                 \n",
      " dropout (Dropout)           (None, 16)                0         \n",
      "                                                                 \n",
      " dense_3 (Dense)             (None, 10)                170       \n",
      "                                                                 \n",
      "=================================================================\n",
      "Total params: 848 (3.31 KB)\n",
      "Trainable params: 848 (3.31 KB)\n",
      "Non-trainable params: 0 (0.00 Byte)\n",
      "_________________________________________________________________\n"
     ]
    }
   ],
   "source": [
    "marvin1 = tf.keras.models.Sequential([\n",
    "    tf.keras.layers.Conv2D(32, (3, 3), activation='relu', input_shape=(28, 28, 1)),\n",
    "    tf.keras.layers.MaxPooling2D((2, 2)),\n",
    "    tf.keras.layers.Conv2D(64, (3, 3), activation='relu'),\n",
    "    tf.keras.layers.MaxPooling2D((2, 2)),\n",
    "    tf.keras.layers.Conv2D(64, (3, 3), activation='relu'),\n",
    "    tf.keras.layers.Flatten(),\n",
    "    tf.keras.layers.Dense(64, activation='relu'),\n",
    "    tf.keras.layers.Dense(10, activation='softmax')\n",
    "])\n",
    "\n",
    "marvin1.summary()\n",
    "\n",
    "marvin2 = tf.keras.models.Sequential([\n",
    "    tf.keras.layers.Conv2D(16, (3, 3), activation=tf.keras.layers.LeakyReLU(alpha=0.03), input_shape=(28, 28, 1)),\n",
    "    tf.keras.layers.MaxPooling2D((2, 2)),\n",
    "    tf.keras.layers.Conv2D(2, (6, 1), activation=tf.keras.layers.LeakyReLU(alpha=0.01)),\n",
    "    tf.keras.layers.MaxPooling2D((2, 2)),\n",
    "    tf.keras.layers.Conv2D(4, (1, 6), activation='relu'),  \n",
    "    tf.keras.layers.Flatten(),\n",
    "    tf.keras.layers.Dense(16, activation='relu'),  # Anpassung der Dense-Schicht\n",
    "    tf.keras.layers.Dropout(0.025),  # Dropout-Schicht hinzugefügt\n",
    "    tf.keras.layers.Dense(10, activation='softmax')\n",
    "])\n",
    "\n",
    "marvin2.summary()\n",
    "\n",
    "\n",
    "\n"
   ]
  },
  {
   "cell_type": "markdown",
   "metadata": {},
   "source": [
    "\n",
    "##### Hint: \n",
    "Find out about Keras activation functions [here](https://keras.io/api/layers/activations/) and about layers [here](https://www.tensorflow.org/api_docs/python/tf/keras/layers). The input shape only needs to be defined for the input layer. Using softmax in your output layer will give you the pleasant effect of a probability distribution for your prediction. The output of softmax transformation has all values non-negative and sum to 1."
   ]
  },
  {
   "cell_type": "code",
   "execution_count": 3,
   "metadata": {},
   "outputs": [],
   "source": [
    "import tensorflow as tf\n",
    "# Define of loss function\n",
    "loss_fn = tf.keras.losses.SparseCategoricalCrossentropy(from_logits=True)\n",
    "\n",
    "\n",
    "#print(-tf.math.log(1/10))\n",
    "\n",
    "#sampleID = 100\n",
    "#loss_fn(y_train[:1], marvin2(x_train[sampleID-1:sampleID]).numpy()).numpy()\n",
    "\n",
    "\n"
   ]
  },
  {
   "cell_type": "code",
   "execution_count": 4,
   "metadata": {},
   "outputs": [],
   "source": [
    "from tensorflow.keras.optimizers import RMSprop\n",
    "# Compiling basically means to prepare the training routine for your model which consists of the optimizer, \n",
    "# the loss, and the metrics which are to be reported during training\n",
    "\n",
    "marvin2.compile(optimizer=RMSprop(learning_rate=0.003, rho=0.9), \n",
    "              loss= 'categorical_crossentropy',\n",
    "              metrics=['accuracy'])\n"
   ]
  },
  {
   "cell_type": "code",
   "execution_count": 5,
   "metadata": {},
   "outputs": [],
   "source": [
    "import datetime\n",
    "import os\n",
    "\n",
    "# for tensorboard visualisation \n",
    "logdir = os.path.join(\"logs\", datetime.datetime.now().strftime(\"%Y%m%d-%H%M%S\"))\n",
    "tensorboard_callback = tf.keras.callbacks.TensorBoard(logdir, histogram_freq=1)\n"
   ]
  },
  {
   "cell_type": "code",
   "execution_count": 6,
   "metadata": {},
   "outputs": [
    {
     "name": "stdout",
     "output_type": "stream",
     "text": [
      "Epoch 1/6\n",
      "235/235 [==============================] - 17s 62ms/step - loss: 1.1349 - accuracy: 0.6265 - val_loss: 0.5781 - val_accuracy: 0.8191\n",
      "Epoch 2/6\n",
      "235/235 [==============================] - 14s 58ms/step - loss: 0.5781 - accuracy: 0.8141 - val_loss: 0.4122 - val_accuracy: 0.8742\n",
      "Epoch 3/6\n",
      "235/235 [==============================] - 14s 58ms/step - loss: 0.4667 - accuracy: 0.8533 - val_loss: 0.3429 - val_accuracy: 0.8953\n",
      "Epoch 4/6\n",
      "235/235 [==============================] - 14s 57ms/step - loss: 0.4037 - accuracy: 0.8735 - val_loss: 0.3022 - val_accuracy: 0.9081\n",
      "Epoch 5/6\n",
      "235/235 [==============================] - 14s 58ms/step - loss: 0.3670 - accuracy: 0.8861 - val_loss: 0.2838 - val_accuracy: 0.9115\n",
      "Epoch 6/6\n",
      "235/235 [==============================] - 13s 57ms/step - loss: 0.3426 - accuracy: 0.8927 - val_loss: 0.2794 - val_accuracy: 0.9134\n"
     ]
    },
    {
     "data": {
      "text/plain": [
       "<keras.src.callbacks.History at 0x118021b7100>"
      ]
     },
     "execution_count": 6,
     "metadata": {},
     "output_type": "execute_result"
    }
   ],
   "source": [
    "# marvin1.fit(\n",
    "#     x_train,\n",
    "#     y_train_one_hot,\n",
    "#     epochs= 10,\n",
    "#     batch_size= 128,\n",
    "#     validation_data=(x_test, y_test_one_hot),\n",
    "#     callbacks=[tensorboard_callback]\n",
    "# )\n",
    "\n",
    "marvin2.fit(\n",
    "    x_train,\n",
    "    y_train_one_hot,\n",
    "    epochs= 6,\n",
    "    batch_size= 256,\n",
    "    validation_data=(x_test, y_test_one_hot),\n",
    "    callbacks=[tensorboard_callback]\n",
    ")\n",
    "\n"
   ]
  },
  {
   "cell_type": "code",
   "execution_count": null,
   "metadata": {},
   "outputs": [],
   "source": [
    "import subprocess\n",
    "\n",
    "# start tensorboard for analysis, to see open browser with : http://localhost:6006/\n",
    "subprocess.call([\"tensorboard\", \"--logdir=\" + logdir])"
   ]
  },
  {
   "cell_type": "code",
   "execution_count": 7,
   "metadata": {},
   "outputs": [
    {
     "name": "stdout",
     "output_type": "stream",
     "text": [
      "saved as:  marvin_binary_edgedetection_onehot_leakyrelu_.h5\n"
     ]
    },
    {
     "name": "stderr",
     "output_type": "stream",
     "text": [
      "c:\\Users\\marti\\AppData\\Local\\Programs\\Python\\Python310\\lib\\site-packages\\keras\\src\\engine\\training.py:3079: UserWarning: You are saving your model as an HDF5 file via `model.save()`. This file format is considered legacy. We recommend using instead the native Keras format, e.g. `model.save('my_model.keras')`.\n",
      "  saving_api.save_model(\n"
     ]
    }
   ],
   "source": [
    "#save model\n",
    "model_name = 'marvin_binary_edgedetection_onehot_leakyrelu_.h5'\n",
    "marvin2.save(model_name, save_format='h5') \n",
    "print('saved as: ', model_name)\n"
   ]
  },
  {
   "cell_type": "code",
   "execution_count": 8,
   "metadata": {},
   "outputs": [
    {
     "name": "stdout",
     "output_type": "stream",
     "text": [
      "313/313 [==============================] - 2s 7ms/step\n",
      "Genauigkeit: 0.9134\n",
      "Präzision: 0.9154504794248989\n",
      "Rückruf: 0.9134\n",
      "F1-Score: 0.9130184458045922\n",
      "Cohen's Kappa: 0.9037241392865789\n"
     ]
    },
    {
     "data": {
      "image/png": "[encoded data removed]",
      "text/plain": [
       "<Figure size 800x600 with 2 Axes>"
      ]
     },
     "metadata": {},
     "output_type": "display_data"
    },
    {
     "name": "stdout",
     "output_type": "stream",
     "text": [
      "Classification Report:\n",
      "               precision    recall  f1-score   support\n",
      "\n",
      "           0       0.95      0.96      0.96       980\n",
      "           1       0.95      0.97      0.96      1135\n",
      "           2       0.87      0.90      0.88      1032\n",
      "           3       0.90      0.91      0.90      1010\n",
      "           4       0.92      0.92      0.92       982\n",
      "           5       0.95      0.95      0.95       892\n",
      "           6       0.96      0.93      0.94       958\n",
      "           7       0.83      0.94      0.88      1028\n",
      "           8       0.95      0.76      0.85       974\n",
      "           9       0.88      0.90      0.89      1009\n",
      "\n",
      "    accuracy                           0.91     10000\n",
      "   macro avg       0.92      0.91      0.91     10000\n",
      "weighted avg       0.92      0.91      0.91     10000\n",
      "\n"
     ]
    }
   ],
   "source": [
    "\n",
    "from sklearn.metrics import accuracy_score, confusion_matrix, classification_report, cohen_kappa_score\n",
    "import matplotlib.pyplot as plt\n",
    "import seaborn as sns\n",
    "from sklearn.metrics import accuracy_score, precision_score, recall_score, f1_score\n",
    "import numpy as np\n",
    "import tensorflow as tf\n",
    "\n",
    "# load saved marvin configuration \n",
    "model_name = 'marvin_binary_edgedetection_onehot_leakyrelu_.h5'\n",
    "marvin_reloaded = tf.keras.models.load_model(model_name)\n",
    "\n",
    "#let model predict label and load true labels\n",
    "predictions = np.argmax(marvin_reloaded.predict(x_test), axis=1)\n",
    "true_labels = np.argmax(y_test_one_hot, axis=1)  \n",
    "\n",
    "# calculation of metrics\n",
    "accuracy = accuracy_score(true_labels, predictions)\n",
    "precision = precision_score(true_labels, predictions, average='weighted')\n",
    "recall = recall_score(true_labels, predictions, average='weighted')\n",
    "f1 = f1_score(true_labels, predictions, average='weighted')\n",
    "kappa = cohen_kappa_score(true_labels, predictions)\n",
    "\n",
    "# print of metrics\n",
    "print(f'Genauigkeit: {accuracy}')\n",
    "print(f'Präzision: {precision}')\n",
    "print(f'Rückruf: {recall}')\n",
    "print(f'F1-Score: {f1}')\n",
    "print(f'Cohen\\'s Kappa: {kappa}')\n",
    "\n",
    "\n",
    "# calculation of confiuson matrix\n",
    "cm = confusion_matrix(np.argmax(y_test_one_hot, axis=1), predictions)\n",
    "plt.figure(figsize=(8, 6))\n",
    "sns.heatmap(cm, annot=True, fmt='d', cmap='Blues', xticklabels=range(10), yticklabels=range(10))\n",
    "plt.xlabel('Predicted')\n",
    "plt.ylabel('True')\n",
    "plt.title('Confusion Matrix')\n",
    "plt.show()\n",
    "\n",
    "# classification report with precision, recall, and f1-score\n",
    "classification_rep = classification_report(np.argmax(y_test_one_hot, axis=1), predictions)\n",
    "print('Classification Report:\\n', classification_rep)\n",
    "\n",
    "\n",
    "\n"
   ]
  }
 ],
 "metadata": {
  "kernelspec": {
   "display_name": "Python 3 (ipykernel)",
   "language": "python",
   "name": "python3"
  },
  "language_info": {
   "codemirror_mode": {
    "name": "ipython",
    "version": 3
   },
   "file_extension": ".py",
   "mimetype": "text/x-python",
   "name": "python",
   "nbconvert_exporter": "python",
   "pygments_lexer": "ipython3",
   "version": "3.10.9"
  }
 },
 "nbformat": 4,
 "nbformat_minor": 2
}
